{
 "cells": [
  {
   "cell_type": "markdown",
   "source": [
    "# Calcium overload\n",
    "\n",
    "Steady-state solutions across a range of glucose levels."
   ],
   "metadata": {}
  },
  {
   "outputs": [],
   "cell_type": "code",
   "source": [
    "using OrdinaryDiffEq\n",
    "using SteadyStateDiffEq\n",
    "using ModelingToolkit\n",
    "using MitochondrialDynamics\n",
    "using MitochondrialDynamics: μM\n",
    "import PythonPlot as plt\n",
    "plt.matplotlib.rcParams[\"font.size\"] = 14"
   ],
   "metadata": {},
   "execution_count": null
  },
  {
   "cell_type": "markdown",
   "source": [
    "Default model"
   ],
   "metadata": {}
  },
  {
   "outputs": [],
   "cell_type": "code",
   "source": [
    "@named sys = make_model()\n",
    "prob = SteadyStateProblem(sys, [])\n",
    "alg = DynamicSS(Rodas5())\n",
    "sol = solve(prob, alg)"
   ],
   "metadata": {},
   "execution_count": null
  },
  {
   "cell_type": "markdown",
   "source": [
    "High calcium model"
   ],
   "metadata": {}
  },
  {
   "outputs": [],
   "cell_type": "code",
   "source": [
    "@unpack RestingCa, ActivatedCa = sys\n",
    "prob_ca5 = SteadyStateProblem(sys, [], [RestingCa=>0.45μM, ActivatedCa=>1.25μM])\n",
    "prob_ca10 = SteadyStateProblem(sys, [], [RestingCa=>0.9μM, ActivatedCa=>2.5μM])"
   ],
   "metadata": {},
   "execution_count": null
  },
  {
   "cell_type": "markdown",
   "source": [
    "Simulating on a range of glucose"
   ],
   "metadata": {}
  },
  {
   "outputs": [],
   "cell_type": "code",
   "source": [
    "@unpack Glc = sys"
   ],
   "metadata": {},
   "execution_count": null
  },
  {
   "cell_type": "markdown",
   "source": [
    "Test on a range of glucose"
   ],
   "metadata": {}
  },
  {
   "outputs": [],
   "cell_type": "code",
   "source": [
    "glc = 3.5:0.5:30.0\n",
    "prob_func = (prob, i, repeat) -> begin\n",
    "    remake(prob, p=[Glc => glc[i]])\n",
    "end\n",
    "\n",
    "trajectories=length(glc)\n",
    "\n",
    "sim = solve(EnsembleProblem(prob; prob_func, safetycopy=false), alg; trajectories)\n",
    "sim_ca5 = solve(EnsembleProblem(prob_ca5; prob_func, safetycopy=false), alg; trajectories)\n",
    "sim_ca10 = solve(EnsembleProblem(prob_ca10; prob_func, safetycopy=false), alg; trajectories);"
   ],
   "metadata": {},
   "execution_count": null
  },
  {
   "cell_type": "markdown",
   "source": [
    "## Steady states for a range of glucose"
   ],
   "metadata": {}
  },
  {
   "outputs": [],
   "cell_type": "code",
   "source": [
    "function plot_steady_state(glc, sols, sys; figsize=(10, 10), title=\"\")\n",
    "\n",
    "    @unpack G3P, Pyr, Ca_c, Ca_m, NADH_c, NADH_m, NAD_c, NAD_m, ATP_c, ADP_c, AMP_c, ΔΨm, x1, x2, x3, degavg = sys\n",
    "\n",
    "    glc5 = glc ./ 5\n",
    "    g3p = extract(sols, G3P * 1000)\n",
    "    pyr = extract(sols, Pyr * 1000)\n",
    "    ca_c = extract(sols, Ca_c * 1000)\n",
    "    ca_m = extract(sols, Ca_m * 1000)\n",
    "    nad_ratio_c = extract(sols, NADH_c/NAD_c)\n",
    "    nad_ratio_m = extract(sols, NADH_m/NAD_m)\n",
    "    atp_c = extract(sols, ATP_c * 1000)\n",
    "    adp_c = extract(sols, ADP_c * 1000)\n",
    "    amp_c = extract(sols, AMP_c * 1000)\n",
    "    td = extract(sols, ATP_c / ADP_c)\n",
    "    dpsi = extract(sols, ΔΨm * 1000)\n",
    "    x1 = extract(sols, x1)\n",
    "    x2 = extract(sols, x2)\n",
    "    x3 = extract(sols, x3)\n",
    "    deg = extract(sols, degavg)\n",
    "\n",
    "    numrows = 3\n",
    "    numcols = 3\n",
    "\n",
    "    fig, ax = plt.subplots(numrows, numcols; figsize)\n",
    "\n",
    "    ax[0, 0].plot(glc5, g3p)\n",
    "    ax[0, 0].set(ylabel=\"G3P (μM)\")\n",
    "    ax[0, 0].set_title(\"a\", loc=\"left\")\n",
    "    ax[0, 1].plot(glc5, pyr)\n",
    "    ax[0, 1].set(ylabel=\"Pyruvate (μM)\")\n",
    "    ax[0, 1].set_title(\"b\", loc=\"left\")\n",
    "    ax[0, 2].plot(glc5, ca_c, label=\"cyto\")\n",
    "    ax[0, 2].plot(glc5, ca_m, label=\"mito\")\n",
    "    ax[0, 2].legend()\n",
    "    ax[0, 2].set(ylabel=\"Calcium (μM)\")\n",
    "    ax[0, 2].set_title(\"c\", loc=\"left\")\n",
    "    ax[1, 0].plot(glc5, nad_ratio_c, label=\"cyto\")\n",
    "    ax[1, 0].plot(glc5, nad_ratio_m, label=\"mito\")\n",
    "    ax[1, 0].legend()\n",
    "    ax[1, 0].set(ylabel=\"NADH:NAD (ratio)\")\n",
    "    ax[1, 0].set_title(\"d\", loc=\"left\")\n",
    "    ax[1, 1].plot(glc5, atp_c, label=\"ATP\")\n",
    "    ax[1, 1].plot(glc5, adp_c, label=\"ADP\")\n",
    "    ax[1, 1].plot(glc5, amp_c, label=\"AMP\")\n",
    "    ax[1, 1].legend()\n",
    "    ax[1, 1].set(ylabel=\"Adenylates (μM)\")\n",
    "    ax[1, 1].set_title(\"e\", loc=\"left\")\n",
    "    ax[1, 2].plot(glc5, td)\n",
    "    ax[1, 2].set(ylabel=\"ATP:ADP (ratio)\")\n",
    "    ax[1, 2].set_title(\"f\", loc=\"left\")\n",
    "    ax[2, 0].plot(glc5, dpsi, label=\"cyto\")\n",
    "    ax[2, 0].set(ylabel=\"ΔΨ (mV)\", xlabel=\"Glucose (X)\")\n",
    "    ax[2, 0].set_title(\"g\", loc=\"left\")\n",
    "    ax[2, 1].plot(glc5, x1, label=\"X1\")\n",
    "    ax[2, 1].plot(glc5, x2, label=\"X2\")\n",
    "    ax[2, 1].plot(glc5, x3, label=\"X3\")\n",
    "    ax[2, 1].set(ylabel=\"Mitochondrial nodes (a.u.)\", xlabel=\"Glucose (X)\")\n",
    "    ax[2, 1].set_title(\"h\", loc=\"left\")\n",
    "    ax[2, 2].plot(glc5, deg)\n",
    "    ax[2, 2].set(ylabel=\"Avg. Node Degree (a.u.)\", xlabel=\"Glucose (X)\")\n",
    "    ax[2, 2].set_title(\"i\", loc=\"left\")\n",
    "\n",
    "    for i in 0:numrows-1, j in 0:numcols-1\n",
    "        ax[i, j].set_xticks(1:6)\n",
    "        ax[i, j].grid()\n",
    "    end\n",
    "    fig.suptitle(title)\n",
    "    fig.tight_layout()\n",
    "    return fig\n",
    "end"
   ],
   "metadata": {},
   "execution_count": null
  },
  {
   "cell_type": "markdown",
   "source": [
    "Default model"
   ],
   "metadata": {}
  },
  {
   "outputs": [],
   "cell_type": "code",
   "source": [
    "fig_glc_default = plot_steady_state(glc, sim, sys, title=\"Calcium 1X\")"
   ],
   "metadata": {},
   "execution_count": null
  },
  {
   "cell_type": "markdown",
   "source": [
    "High calcium (5X)"
   ],
   "metadata": {}
  },
  {
   "outputs": [],
   "cell_type": "code",
   "source": [
    "fig_ca5 = plot_steady_state(glc, sim_ca5, sys, title=\"Calcium 5X\")"
   ],
   "metadata": {},
   "execution_count": null
  },
  {
   "cell_type": "markdown",
   "source": [
    "High calcium (10X)"
   ],
   "metadata": {}
  },
  {
   "outputs": [],
   "cell_type": "code",
   "source": [
    "fig_ca10 = plot_steady_state(glc, sim_ca10, sys, title=\"Calcium 10X\")"
   ],
   "metadata": {},
   "execution_count": null
  },
  {
   "cell_type": "markdown",
   "source": [
    "## Comparing default and high calcium models"
   ],
   "metadata": {}
  },
  {
   "outputs": [],
   "cell_type": "code",
   "source": [
    "function plot_comparision(glc, sim, sim_ca5, sim_ca10, sys;\n",
    "    figsize=(8, 10), title=\"\", labels=[\"Ca 1X\", \"Ca 5X\", \"Ca 10X\"]\n",
    ")\n",
    "    @unpack G3P, Pyr, Ca_c, Ca_m, NADH_c, NADH_m, NAD_c, NAD_m, ATP_c, ADP_c, AMP_c, ΔΨm, degavg, J_O2 = sys\n",
    "\n",
    "    glc5 = glc ./ 5\n",
    "\n",
    "    numrows = 3\n",
    "    numcols = 2\n",
    "    fig, ax = plt.subplots(numrows, numcols; figsize)\n",
    "\n",
    "    ax[0, 0].set_title(\"a\", loc=\"left\")\n",
    "    ax[0, 0].set_ylabel(\"Cyto. NADH:NAD (ratio)\")\n",
    "    k = NADH_c/NAD_c\n",
    "    yy = [extract(sim, k) extract(sim_ca5, k) extract(sim_ca10, k)]\n",
    "    lines = ax[0, 0].plot(glc5, yy)\n",
    "    ax[0, 0].legend(lines, labels)\n",
    "\n",
    "    ax[0, 1].set_title(\"b\", loc=\"left\")\n",
    "    ax[0, 1].set_ylabel(\"Mito. NADH:NAD (ratio)\")\n",
    "    k = NADH_m/NAD_m\n",
    "    yy = [extract(sim, k) extract(sim_ca5, k) extract(sim_ca10, k)]\n",
    "    lines = ax[0, 1].plot(glc5, yy)\n",
    "    ax[0, 1].legend(lines, labels)\n",
    "\n",
    "    ax[1, 0].set_title(\"c\", loc=\"left\")\n",
    "    ax[1, 0].set_ylabel(\"ATP:ADP (ratio)\")\n",
    "    k = ATP_c/ADP_c\n",
    "    yy = [extract(sim, k) extract(sim_ca5, k) extract(sim_ca10, k)]\n",
    "    lines = ax[1, 0].plot(glc5, yy)\n",
    "    ax[1, 0].legend(lines, labels)\n",
    "\n",
    "    ax[1, 1].set_title(\"d\", loc=\"left\")\n",
    "    ax[1, 1].set_ylabel(\"ΔΨm (mV)\")\n",
    "    k = ΔΨm * 1000\n",
    "    yy = [extract(sim, k) extract(sim_ca5, k) extract(sim_ca10, k)]\n",
    "    lines = ax[1, 1].plot(glc5, yy)\n",
    "    ax[1, 1].legend(lines, labels)\n",
    "\n",
    "    ax[2, 0].set_title(\"e\", loc=\"left\")\n",
    "    ax[2, 0].set_ylabel(\"Avg. node degree (ratio)\")\n",
    "    k = degavg\n",
    "    yy = [extract(sim, k) extract(sim_ca5, k) extract(sim_ca10, k)]\n",
    "    lines = ax[2, 0].plot(glc5, yy)\n",
    "    ax[2, 0].legend(lines, labels, loc=\"lower right\")\n",
    "    ax[2, 0].set(xlabel=\"Glucose (X)\")\n",
    "\n",
    "    ax[2, 1].set_title(\"f\", loc=\"left\")\n",
    "    ax[2, 1].set_ylabel(\"VO2 (mM/s)\")\n",
    "    k = J_O2\n",
    "    yy = [extract(sim, k) extract(sim_ca5, k) extract(sim_ca10, k)]\n",
    "    lines = ax[2, 1].plot(glc5, yy)\n",
    "    ax[2, 1].legend(lines, labels)\n",
    "    ax[2, 1].set(xlabel=\"Glucose (X)\")\n",
    "\n",
    "    for i in 0:numrows-1, j in 0:numcols-1\n",
    "        ax[i, j].set_xticks(1:6)\n",
    "        ax[i, j].grid()\n",
    "    end\n",
    "\n",
    "    fig.suptitle(title)\n",
    "    fig.tight_layout()\n",
    "    return fig\n",
    "end\n",
    "\n",
    "figcomp = plot_comparision(glc, sim, sim_ca5, sim_ca10, sys)"
   ],
   "metadata": {},
   "execution_count": null
  },
  {
   "cell_type": "markdown",
   "source": [
    "Export figure"
   ],
   "metadata": {}
  },
  {
   "outputs": [],
   "cell_type": "code",
   "source": [
    "exportTIF(figcomp, \"S1_HighCa.tif\")"
   ],
   "metadata": {},
   "execution_count": null
  },
  {
   "cell_type": "markdown",
   "source": [
    "## MMP vs <k>"
   ],
   "metadata": {}
  },
  {
   "outputs": [],
   "cell_type": "code",
   "source": [
    "function plot_dpsi_k(sim, sim_ca5, sim_ca10, sys; figsize=(6,6), title=\"\", labels=[\"Ca 1X\", \"Ca 5X\", \"Ca 10X\"])\n",
    "    @unpack ΔΨm, degavg = sys\n",
    "\n",
    "    fig, ax = plt.subplots(1, 1; figsize)\n",
    "\n",
    "    ax.plot(extract(sim, ΔΨm * 1000), extract(sim, degavg), \"v\", label=labels[1])\n",
    "    ax.plot(extract(sim_ca5, ΔΨm * 1000), extract(sim_ca5, degavg), \"o\", label=labels[2])\n",
    "    ax.plot(extract(sim_ca10, ΔΨm * 1000), extract(sim_ca10, degavg), \"x\", label=labels[3])\n",
    "    ax.set(xlabel=\"ΔΨm (mV)\", ylabel=\"Average node degree\", title=title)\n",
    "    ax.legend()\n",
    "    ax.grid()\n",
    "\n",
    "    return fig\n",
    "end\n",
    "\n",
    "fig = plot_dpsi_k(sim, sim_ca5, sim_ca10, sys)"
   ],
   "metadata": {},
   "execution_count": null
  },
  {
   "outputs": [],
   "cell_type": "code",
   "source": [
    "# exportTIF(fig, \"S1_HighCa_dpsi_k.tif\")"
   ],
   "metadata": {},
   "execution_count": null
  },
  {
   "cell_type": "markdown",
   "source": [
    "## x-axis as Ca2+ and y-axis as average node degree"
   ],
   "metadata": {}
  },
  {
   "outputs": [],
   "cell_type": "code",
   "source": [
    "function plot_ca_k(sim, sim_ca5, sim_ca10, sys; figsize=(6,6), title=\"\", labels=[\"Ca 1X\", \"Ca 5X\", \"Ca 10X\"])\n",
    "    @unpack Ca_m, degavg = sys\n",
    "\n",
    "    fig, ax = plt.subplots(1, 1; figsize)\n",
    "\n",
    "    ax.plot(extract(sim, Ca_m * 1000), extract(sim, degavg), \"v\", label=labels[1])\n",
    "    ax.plot(extract(sim_ca5, Ca_m * 1000), extract(sim_ca5, degavg), \"o\", label=labels[2])\n",
    "    ax.plot(extract(sim_ca10, Ca_m * 1000), extract(sim_ca10, degavg), \"x\", label=labels[3])\n",
    "    ax.set(xlabel=\"Mitochondrial Ca (mM)\", ylabel=\"Average node degree\", title=title)\n",
    "    ax.legend()\n",
    "    ax.grid()\n",
    "    return fig\n",
    "end\n",
    "\n",
    "fig = plot_ca_k(sim, sim_ca5, sim_ca10, sys)"
   ],
   "metadata": {},
   "execution_count": null
  },
  {
   "outputs": [],
   "cell_type": "code",
   "source": [
    "exportTIF(fig, \"S1_HighCa_ca_k.tif\")"
   ],
   "metadata": {},
   "execution_count": null
  },
  {
   "cell_type": "markdown",
   "source": [
    "## x-axis as ATP and y-axis as average node degree"
   ],
   "metadata": {}
  },
  {
   "outputs": [],
   "cell_type": "code",
   "source": [
    "function plot_atp_k(sim, sim_ca5, sim_ca10, sys; figsize=(6,6), title=\"\", labels=[\"Ca 1X\", \"Ca 5X\", \"Ca 10X\"])\n",
    "    @unpack ATP_c, ADP_c, degavg = sys\n",
    "\n",
    "    k = ATP_c / ADP_c\n",
    "\n",
    "    fig, ax = plt.subplots(1, 1; figsize)\n",
    "\n",
    "    ax.plot(extract(sim, k), extract(sim, degavg), \"v\", label=labels[1])\n",
    "    ax.plot(extract(sim_ca5, k), extract(sim_ca5, degavg), \"o\", label=labels[2])\n",
    "    ax.plot(extract(sim_ca10, k), extract(sim_ca10, degavg), \"x\", label=labels[3])\n",
    "    ax.set(xlabel=\"ATP:ADP ratio\", ylabel=\"Average node degree\", title=title)\n",
    "    ax.legend()\n",
    "    ax.grid()\n",
    "\n",
    "    return fig\n",
    "end\n",
    "\n",
    "fig = plot_atp_k(sim, sim_ca5, sim_ca10, sys)"
   ],
   "metadata": {},
   "execution_count": null
  },
  {
   "outputs": [],
   "cell_type": "code",
   "source": [
    "exportTIF(fig, \"S1_HighCa_atp_k.tif\")"
   ],
   "metadata": {},
   "execution_count": null
  },
  {
   "cell_type": "markdown",
   "source": [
    "---\n",
    "\n",
    "*This notebook was generated using [Literate.jl](https://github.com/fredrikekre/Literate.jl).*"
   ],
   "metadata": {}
  }
 ],
 "nbformat_minor": 3,
 "metadata": {
  "language_info": {
   "file_extension": ".jl",
   "mimetype": "application/julia",
   "name": "julia",
   "version": "1.11.5"
  },
  "kernelspec": {
   "name": "julia-1.11",
   "display_name": "Julia 1.11.5",
   "language": "julia"
  }
 },
 "nbformat": 4
}
