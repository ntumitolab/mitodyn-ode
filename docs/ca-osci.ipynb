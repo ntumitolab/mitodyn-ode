{
 "cells": [
  {
   "cell_type": "markdown",
   "source": [
    "# Figure 6: Calcium oscillation"
   ],
   "metadata": {}
  },
  {
   "outputs": [],
   "cell_type": "code",
   "source": [
    "using OrdinaryDiffEq\n",
    "using ModelingToolkit\n",
    "using MitochondrialDynamics\n",
    "using MitochondrialDynamics: second, μM, mV, mM, Hz, minute, hil\n",
    "import PythonPlot as plt\n",
    "plt.matplotlib.rcParams[\"font.size\"] = 14"
   ],
   "metadata": {},
   "execution_count": null
  },
  {
   "outputs": [],
   "cell_type": "code",
   "source": [
    "@named sys = make_model()\n",
    "@unpack Ca_c, Glc, kATPCa, kATP = sys\n",
    "alg = TRBDF2()"
   ],
   "metadata": {},
   "execution_count": null
  },
  {
   "cell_type": "markdown",
   "source": [
    "Calcium oscillation function"
   ],
   "metadata": {}
  },
  {
   "outputs": [],
   "cell_type": "code",
   "source": [
    "function cac_wave(; ca_base = 0.09μM, ca_act = 0.25μM, n=4, katp=25, amplitude=0.5, period=2minute)\n",
    "    @variables t Ca_c(t) ATP_c(t) ADP_c(t)\n",
    "    @parameters (RestingCa=ca_base, ActivatedCa=ca_act, NCac=n, KatpCac=katp)\n",
    "    x = 5 * ((t / period) % 1.0) ## An oscillating function\n",
    "    w = (x * exp(1 - x))^4  ## Scale from 0 to 1\n",
    "    caceq = Ca_c ~ RestingCa + ActivatedCa * hil(ATP_c, KatpCac * ADP_c, NCac) * (1 + amplitude * (2w-1))\n",
    "    return caceq\n",
    "end\n",
    "\n",
    "@named sysosci = make_model(; caceq=cac_wave(amplitude=0.8))\n",
    "\n",
    "equations(sysosci)\n",
    "\n",
    "observed(sysosci)"
   ],
   "metadata": {},
   "execution_count": null
  },
  {
   "outputs": [],
   "cell_type": "code",
   "source": [
    "tend = 4000.0\n",
    "ts = range(tend-480, tend; length=201)\n",
    "prob = ODEProblem(sysosci, [], tend, [Glc => 10mM])\n",
    "sol = solve(prob, alg, saveat=ts)"
   ],
   "metadata": {},
   "execution_count": null
  },
  {
   "outputs": [],
   "cell_type": "code",
   "source": [
    "function plot_fig5(sol, figsize=(10, 10))\n",
    "    ts = sol.t\n",
    "    tsm = ts ./ 60\n",
    "    @unpack Ca_c, Ca_m, ATP_c, ADP_c, ΔΨm, degavg, J_ANT, J_HL = sys\n",
    "    fig, ax = plt.subplots(5, 1; figsize)\n",
    "\n",
    "    ax[0].plot(tsm, sol[Ca_c * 1000], label=\"Cyto\")\n",
    "    ax[0].plot(tsm, sol[Ca_m * 1000], label=\"Mito\")\n",
    "    ax[0].set_title(\"a\", loc=\"left\")\n",
    "    ax[0].set_ylabel(\"Calcium (μM)\", fontsize=12)\n",
    "    ax[0].legend(loc=\"center left\")\n",
    "\n",
    "    ax[1].plot(tsm, sol[ATP_c / ADP_c])\n",
    "    ax[1].set_title(\"b\", loc=\"left\")\n",
    "    ax[1].set_ylabel(\"ATP:ADP (ratio)\", fontsize=12)\n",
    "\n",
    "    ax[2].plot(tsm, sol[ΔΨm * 1000])\n",
    "    ax[2].set_title(\"c\", loc=\"left\")\n",
    "    ax[2].set_ylabel(\"ΔΨm (mV)\", fontsize=12)\n",
    "\n",
    "    ax[3].plot(tsm, sol[degavg], label=\"Average node degree\")\n",
    "    ax[3].set_title(\"d\", loc=\"left\")\n",
    "    ax[3].set_ylabel(\"a.u.\")\n",
    "    ax[3].legend(loc=\"center left\")\n",
    "\n",
    "    ax[4].plot(tsm, sol[J_ANT], label=\"ATP export\")\n",
    "    ax[4].plot(tsm, sol[J_HL], label=\"H leak\")\n",
    "    ax[4].set_title(\"e\", loc=\"left\")\n",
    "    ax[4].set_ylabel(\"Rate (mM/s)\")\n",
    "    ax[4].set(xlabel=\"Time (minute)\")\n",
    "    ax[4].legend(loc=\"center left\")\n",
    "\n",
    "    for i in 0:4\n",
    "        ax[i].grid()\n",
    "        ax[i].set_xlim(tsm[begin], tsm[end])\n",
    "    end\n",
    "\n",
    "    plt.tight_layout()\n",
    "    return fig\n",
    "end"
   ],
   "metadata": {},
   "execution_count": null
  },
  {
   "outputs": [],
   "cell_type": "code",
   "source": [
    "fig5 = plot_fig5(sol)"
   ],
   "metadata": {},
   "execution_count": null
  },
  {
   "cell_type": "markdown",
   "source": [
    "Export figure"
   ],
   "metadata": {}
  },
  {
   "outputs": [],
   "cell_type": "code",
   "source": [
    "exportTIF(fig5, \"Fig6-ca-oscillation.tif\")"
   ],
   "metadata": {},
   "execution_count": null
  },
  {
   "cell_type": "markdown",
   "source": [
    "Tuning ca-dependent ATP consumption rate (kATPCa)\n",
    "kATPCa : 90 -> 10"
   ],
   "metadata": {}
  },
  {
   "outputs": [],
   "cell_type": "code",
   "source": [
    "prob2 = ODEProblem(sysosci, [], tend, [Glc => 10mM, kATPCa=>10Hz/mM, kATP=>0.055Hz])\n",
    "sol2 = solve(prob2, alg, saveat=ts)\n",
    "plot_fig5(sol2)"
   ],
   "metadata": {},
   "execution_count": null
  },
  {
   "cell_type": "markdown",
   "source": [
    "kATPCa : 90 -> 0.1"
   ],
   "metadata": {}
  },
  {
   "outputs": [],
   "cell_type": "code",
   "source": [
    "prob4 = ODEProblem(sysosci, [], tend, [Glc => 10mM, kATPCa=>0.1Hz/mM, kATP=>0.06Hz])\n",
    "sol4 = solve(prob4, alg, saveat=ts)\n",
    "plot_fig5(sol4)"
   ],
   "metadata": {},
   "execution_count": null
  },
  {
   "cell_type": "markdown",
   "source": [
    "---\n",
    "\n",
    "*This notebook was generated using [Literate.jl](https://github.com/fredrikekre/Literate.jl).*"
   ],
   "metadata": {}
  }
 ],
 "nbformat_minor": 3,
 "metadata": {
  "language_info": {
   "file_extension": ".jl",
   "mimetype": "application/julia",
   "name": "julia",
   "version": "1.12.0"
  },
  "kernelspec": {
   "name": "julia-1.12",
   "display_name": "Julia 1.12.0",
   "language": "julia"
  }
 },
 "nbformat": 4
}