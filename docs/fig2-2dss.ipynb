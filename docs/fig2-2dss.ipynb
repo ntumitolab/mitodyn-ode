{
 "cells": [
  {
   "cell_type": "markdown",
   "source": [
    "# Figure 2\n",
    "\n",
    "Steady-state solutions for a range of glucose concentrations and OXPHOS capacities by chemicals."
   ],
   "metadata": {}
  },
  {
   "outputs": [],
   "cell_type": "code",
   "source": [
    "using OrdinaryDiffEq\n",
    "using SteadyStateDiffEq\n",
    "using ModelingToolkit\n",
    "using MitochondrialDynamics\n",
    "import PythonPlot as plt\n",
    "plt.matplotlib.rcParams[\"font.size\"] = 14"
   ],
   "metadata": {},
   "execution_count": null
  },
  {
   "outputs": [],
   "cell_type": "code",
   "source": [
    "@named sys = make_model()\n",
    "@unpack Glc, rETC, rHL, rF1, rPDH = sys\n",
    "prob = SteadyStateProblem(sys, [])"
   ],
   "metadata": {},
   "execution_count": null
  },
  {
   "cell_type": "markdown",
   "source": [
    "Range for two parameters"
   ],
   "metadata": {}
  },
  {
   "outputs": [],
   "cell_type": "code",
   "source": [
    "rGlcF1 = range(3.0, 30.0, 51)\n",
    "rGlcETC = range(3.0, 30.0, 51)\n",
    "rGlcHL = range(4.0, 30.0, 51)\n",
    "rf1 = range(0.1, 2.0, 51)\n",
    "retc = range(0.1, 2.0, 51)\n",
    "rhl = range(0.1, 5.0, 51)"
   ],
   "metadata": {},
   "execution_count": null
  },
  {
   "cell_type": "markdown",
   "source": [
    "2D steady states"
   ],
   "metadata": {}
  },
  {
   "outputs": [],
   "cell_type": "code",
   "source": [
    "function solve_fig3(glc, r, k, prob, alg=DynamicSS(Rodas5()))\n",
    "    newprob = remake(prob, p = [Glc=> glc, k => r])\n",
    "    return solve(newprob, alg)\n",
    "end\n",
    "\n",
    "solsf1 = [solve_fig3(glc, r, rF1, prob) for r in rf1, glc in rGlcF1];\n",
    "solsetc = [solve_fig3(glc, r, rETC, prob) for r in retc, glc in rGlcETC];\n",
    "solshl = [solve_fig3(glc, r, rHL, prob) for r in rhl, glc in rGlcHL];"
   ],
   "metadata": {},
   "execution_count": null
  },
  {
   "outputs": [],
   "cell_type": "code",
   "source": [
    "function plot_fig3(;\n",
    "    figsize=(10, 10),\n",
    "    cmaps=[\"bwr\", \"magma\", \"viridis\"],\n",
    "    ylabels=[\n",
    "        \"ATP synthase capacity (X)\",\n",
    "        \"ETC capacity (X)\",\n",
    "        \"Proton leak rate (X)\"\n",
    "    ],\n",
    "    cbarlabels=[\"<k> (a.u.)\", \"ΔΨ (mV)\", \"T:D (ratio)\"],\n",
    "    xxs=(rGlcF1, rGlcETC, rGlcHL),\n",
    "    xscale=5.0,\n",
    "    yys=(rf1, retc, rhl),\n",
    "    zs=(solsf1, solsetc, solshl),\n",
    "    extremes=((1.0, 1.8), (80.0, 180.0), (0.0, 60.0))\n",
    ")\n",
    "    # mapping functions\n",
    "    @unpack degavg, ΔΨm, ATP_c, ADP_c = sys\n",
    "    fs = (s -> s[degavg], s -> s[ΔΨm * 1000] , s -> s[ATP_c / ADP_c])\n",
    "\n",
    "    fig, axes = plt.subplots(3, 3; figsize)\n",
    "\n",
    "    subtitle = [\n",
    "        \"a\" \"b\" \"c\";\n",
    "        \"d\" \"e\" \"f\";\n",
    "        \"g\" \"h\" \"i\";\n",
    "    ]\n",
    "\n",
    "    for col in 1:3\n",
    "        f = fs[col]\n",
    "        cm = cmaps[col]\n",
    "        cbl = cbarlabels[col]\n",
    "        vmin, vmax = extremes[col]\n",
    "\n",
    "        # lvls = LinRange(vmin, vmax, levels)\n",
    "        for row in 1:3\n",
    "            xx = xxs[row] ./ xscale\n",
    "            yy = yys[row]\n",
    "            z = zs[row]\n",
    "            ax = axes[row-1, col-1]\n",
    "\n",
    "            ylabel = ylabels[row]\n",
    "\n",
    "            mesh = ax.pcolormesh(\n",
    "                xx, yy, map(f, z);\n",
    "                shading=\"gouraud\",\n",
    "                rasterized=true,\n",
    "                cmap=cm,\n",
    "                vmin=vmin,\n",
    "                vmax=vmax\n",
    "            )\n",
    "\n",
    "            ax.set(ylabel=ylabel, xlabel=\"Glucose (X)\")\n",
    "            ax.set_title(subtitle[row, col], loc=\"left\")\n",
    "\n",
    "            # Arrow annotation: https://matplotlib.org/stable/tutorials/text/annotations.html#plotting-guide-annotation\n",
    "            if row == 1\n",
    "                ax.text(5.5, 1, \"Oligomycin\", ha=\"center\", va=\"center\", rotation=-90, size=16, bbox=Dict(\"boxstyle\" => \"rarrow\", \"fc\" => \"w\", \"ec\" => \"k\", \"lw\" => 2, \"alpha\" => 0.5))\n",
    "            elseif row == 2\n",
    "                ax.text(5.5, 1, \"Rotenone\", ha=\"center\", va=\"center\", rotation=-90, size=16, bbox=Dict(\"boxstyle\" => \"rarrow\", \"fc\" => \"w\", \"ec\" => \"k\", \"lw\" => 2, \"alpha\" => 0.5))\n",
    "            elseif row == 3\n",
    "                ax.text(5.5, 2.5, \"FCCP\", ha=\"center\", va=\"center\", rotation=90, size=16, bbox=Dict(\"boxstyle\" => \"rarrow\", \"fc\" => \"w\", \"ec\" => \"k\", \"lw\" => 2, \"alpha\" => 0.5))\n",
    "            end\n",
    "            cbar = fig.colorbar(mesh, ax=ax)\n",
    "            cbar.ax.set_title(cbl)\n",
    "        end\n",
    "    end\n",
    "\n",
    "    fig.tight_layout()\n",
    "    return fig\n",
    "end"
   ],
   "metadata": {},
   "execution_count": null
  },
  {
   "outputs": [],
   "cell_type": "code",
   "source": [
    "fig = plot_fig3(figsize=(13, 10))"
   ],
   "metadata": {},
   "execution_count": null
  },
  {
   "cell_type": "markdown",
   "source": [
    "Export figure"
   ],
   "metadata": {}
  },
  {
   "outputs": [],
   "cell_type": "code",
   "source": [
    "exportTIF(fig, \"Fig2-2Dsteadystate.tif\")"
   ],
   "metadata": {},
   "execution_count": null
  },
  {
   "cell_type": "markdown",
   "source": [
    "---\n",
    "\n",
    "*This notebook was generated using [Literate.jl](https://github.com/fredrikekre/Literate.jl).*"
   ],
   "metadata": {}
  }
 ],
 "nbformat_minor": 3,
 "metadata": {
  "language_info": {
   "file_extension": ".jl",
   "mimetype": "application/julia",
   "name": "julia",
   "version": "1.11.5"
  },
  "kernelspec": {
   "name": "julia-1.11",
   "display_name": "Julia 1.11.5",
   "language": "julia"
  }
 },
 "nbformat": 4
}
