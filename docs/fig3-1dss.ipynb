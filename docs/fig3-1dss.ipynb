{
 "cells": [
  {
   "cell_type": "markdown",
   "source": [
    "# Figure 3\n",
    "\n",
    "Steady-state solutions across a range of glucose levels."
   ],
   "metadata": {}
  },
  {
   "outputs": [],
   "cell_type": "code",
   "source": [
    "using OrdinaryDiffEq\n",
    "using SteadyStateDiffEq\n",
    "using ModelingToolkit\n",
    "using MitochondrialDynamics\n",
    "import PythonPlot as plt\n",
    "plt.matplotlib.rcParams[\"font.size\"] = 14"
   ],
   "metadata": {},
   "execution_count": null
  },
  {
   "cell_type": "markdown",
   "source": [
    "baseline model"
   ],
   "metadata": {}
  },
  {
   "outputs": [],
   "cell_type": "code",
   "source": [
    "@named sys = make_model()\n",
    "@unpack Glc, G3P, Pyr, ATP_c, ADP_c, NADH_c, NADH_m, Ca_m, ΔΨm, x1, x2, x3 = sys\n",
    "prob = SteadyStateProblem(sys, [])\n",
    "alg = DynamicSS(TRBDF2())\n",
    "sol = solve(prob, alg)"
   ],
   "metadata": {},
   "execution_count": null
  },
  {
   "cell_type": "markdown",
   "source": [
    "Galactose model: glycolysis produces zero net ATP\n",
    "By increasing the ATP consumed in the first part of glycolysis from 2 to 4"
   ],
   "metadata": {}
  },
  {
   "outputs": [],
   "cell_type": "code",
   "source": [
    "prob_gal = SteadyStateProblem(sys, [], [sys.ATPstiochGK => 4])"
   ],
   "metadata": {},
   "execution_count": null
  },
  {
   "cell_type": "markdown",
   "source": [
    "FFA model: Additional flux reducing mitochondrial NAD/NADH couple\n",
    "A 10% increase w.r.t baseline CAC flux"
   ],
   "metadata": {}
  },
  {
   "outputs": [],
   "cell_type": "code",
   "source": [
    "prob_ffa = SteadyStateProblem(sys, [], [sys.kFFA => sol[0.10 * sys.J_DH / sys.NAD_m]])"
   ],
   "metadata": {},
   "execution_count": null
  },
  {
   "cell_type": "markdown",
   "source": [
    "Simulating on a range of glucose\n",
    "Test on a range of glucose (3 mM to 30 mM)"
   ],
   "metadata": {}
  },
  {
   "outputs": [],
   "cell_type": "code",
   "source": [
    "glc = range(3.0, 30.0, step=0.3)\n",
    "\n",
    "prob_func = (prob, i, repeat) -> begin\n",
    "    remake(prob, p=[Glc=> glc[i]])\n",
    "end\n",
    "\n",
    "trajectories = length(glc)"
   ],
   "metadata": {},
   "execution_count": null
  },
  {
   "cell_type": "markdown",
   "source": [
    "Run the simulations"
   ],
   "metadata": {}
  },
  {
   "outputs": [],
   "cell_type": "code",
   "source": [
    "sim = solve(EnsembleProblem(prob; prob_func, safetycopy=false), alg; trajectories)\n",
    "sim_gal = solve(EnsembleProblem(prob_gal; prob_func, safetycopy=false), alg; trajectories)\n",
    "sim_ffa = solve(EnsembleProblem(prob_ffa; prob_func, safetycopy=false), alg; trajectories);"
   ],
   "metadata": {},
   "execution_count": null
  },
  {
   "cell_type": "markdown",
   "source": [
    "## Steady states for a range of glucose"
   ],
   "metadata": {}
  },
  {
   "outputs": [],
   "cell_type": "code",
   "source": [
    "function plot_steady_state(glc, sols, sys; figsize=(10, 10), title=\"\")\n",
    "\n",
    "    @unpack G3P, Pyr, Ca_c, Ca_m, NADH_c, NADH_m, NAD_c, NAD_m, ATP_c, ADP_c, AMP_c, ΔΨm, x1, x2, x3, degavg = sys\n",
    "\n",
    "    glc5 = glc ./ 5\n",
    "    g3p = extract(sols, G3P * 1000)\n",
    "    pyr = extract(sols, Pyr * 1000)\n",
    "    ca_c = extract(sols, Ca_c * 1000)\n",
    "    ca_m = extract(sols, Ca_m * 1000)\n",
    "    nad_ratio_c = extract(sols, NADH_c / NAD_c)\n",
    "    nad_ratio_m = extract(sols, NADH_m / NAD_m)\n",
    "    atp_c = extract(sols, ATP_c * 1000)\n",
    "    adp_c = extract(sols, ADP_c * 1000)\n",
    "    amp_c = extract(sols, AMP_c * 1000)\n",
    "    td = extract(sols, ATP_c / ADP_c)\n",
    "    dpsi = extract(sols, ΔΨm * 1000)\n",
    "    x1 = extract(sols, x1)\n",
    "    x2 = extract(sols, x2)\n",
    "    x3 = extract(sols, x3)\n",
    "    deg = extract(sols, degavg)\n",
    "\n",
    "    numrows = 3\n",
    "    numcols = 3\n",
    "    fig, axs = plt.subplots(numrows, numcols; figsize)\n",
    "\n",
    "    axs[0, 0].plot(glc5, g3p)\n",
    "    axs[0, 0].set(ylim=(0.0, 10.0), ylabel=\"G3P (μM)\")\n",
    "    axs[0, 0].set_title(\"a\", loc=\"left\")\n",
    "    axs[0, 1].plot(glc5, pyr)\n",
    "    axs[0, 1].set(ylabel=\"Pyruvate (μM)\")\n",
    "    axs[0, 1].set_title(\"b\", loc=\"left\")\n",
    "    axs[0, 2].plot(glc5, ca_c, label=\"Ca (cyto)\")\n",
    "    axs[0, 2].plot(glc5, ca_m, label=\"Ca (mito)\")\n",
    "    axs[0, 2].legend()\n",
    "    axs[0, 2].set(ylim=(0.0, 1.5), ylabel=\"Calcium (μM)\")\n",
    "    axs[0, 2].set_title(\"c\", loc=\"left\")\n",
    "    axs[1, 0].plot(glc5, nad_ratio_c, label=\"cyto\")\n",
    "    axs[1, 0].plot(glc5, nad_ratio_m, label=\"mito\")\n",
    "    axs[1, 0].legend()\n",
    "    axs[1, 0].set(ylabel=\"NADH:NAD (ratio)\")\n",
    "    axs[1, 0].set_title(\"d\", loc=\"left\")\n",
    "    axs[1, 1].plot(glc5, atp_c, label=\"ATP\")\n",
    "    axs[1, 1].plot(glc5, adp_c, label=\"ADP\")\n",
    "    axs[1, 1].plot(glc5, amp_c, label=\"AMP\")\n",
    "    axs[1, 1].legend()\n",
    "    axs[1, 1].set(ylabel=\"Adenylates (μM)\")\n",
    "    axs[1, 1].set_title(\"e\", loc=\"left\")\n",
    "    axs[1, 2].plot(glc5, td)\n",
    "    axs[1, 2].set(ylabel=\"ATP:ADP (ratio)\")\n",
    "    axs[1, 2].set_title(\"f\", loc=\"left\")\n",
    "    axs[2, 0].plot(glc5, dpsi)\n",
    "    axs[2, 0].set(xlabel=\"Glucose (X)\", ylabel=\"ΔΨ (mV)\")\n",
    "    axs[2, 0].set_title(\"g\", loc=\"left\")\n",
    "    axs[2, 1].plot(glc5, x1, label=\"X1\")\n",
    "    axs[2, 1].plot(glc5, x2, label=\"X2\")\n",
    "    axs[2, 1].plot(glc5, x3, label=\"X3\")\n",
    "    axs[2, 1].legend()\n",
    "    axs[2, 1].set(xlabel=\"Glucose (X)\", ylabel=\"Mitochondrial nodes (a.u.)\")\n",
    "    axs[2, 1].set_title(\"h\", loc=\"left\")\n",
    "    axs[2, 2].plot(glc5, deg)\n",
    "    axs[2, 2].set(xlabel=\"Glucose (X)\", ylabel=\"Avg. node degree (a.u.)\")\n",
    "    axs[2, 2].set_title(\"i\", loc=\"left\")\n",
    "\n",
    "    for i in 0:numrows-1, j in 0:numcols-1\n",
    "        axs[i, j].set_xticks(1:6)\n",
    "        axs[i, j].grid()\n",
    "    end\n",
    "    fig.suptitle(title)\n",
    "    fig.tight_layout()\n",
    "    return fig\n",
    "end"
   ],
   "metadata": {},
   "execution_count": null
  },
  {
   "outputs": [],
   "cell_type": "code",
   "source": [
    "fig = plot_steady_state(glc, sim, sys, title=\"\")"
   ],
   "metadata": {},
   "execution_count": null
  },
  {
   "cell_type": "markdown",
   "source": [
    "Default parameters"
   ],
   "metadata": {}
  },
  {
   "outputs": [],
   "cell_type": "code",
   "source": [
    "exportTIF(fig, \"Fig3-steady-state.tif\")"
   ],
   "metadata": {},
   "execution_count": null
  },
  {
   "cell_type": "markdown",
   "source": [
    "Adding free fatty acids"
   ],
   "metadata": {}
  },
  {
   "outputs": [],
   "cell_type": "code",
   "source": [
    "fig = plot_steady_state(glc, sim_ffa, sys, title=\"FFA model\")"
   ],
   "metadata": {},
   "execution_count": null
  },
  {
   "cell_type": "markdown",
   "source": [
    "Using galactose instead of glucose as the hydrocarbon source"
   ],
   "metadata": {}
  },
  {
   "outputs": [],
   "cell_type": "code",
   "source": [
    "fig = plot_steady_state(glc, sim_gal, sys, title=\"Galactose model\")"
   ],
   "metadata": {},
   "execution_count": null
  },
  {
   "cell_type": "markdown",
   "source": [
    "## Comparing default, FFA, and galactose models"
   ],
   "metadata": {}
  },
  {
   "outputs": [],
   "cell_type": "code",
   "source": [
    "function plot_ffa_gal(glc, sim, sim_gal, sim_ffa, sys; figsize=(10, 10), title=\"\", labels=[\"Baseline\", \"Gal\", \"FFA\"])\n",
    "\n",
    "    @unpack G3P, Pyr, Ca_c, Ca_m, NADH_c, NADH_m, NAD_c, NAD_m, ATP_c, ADP_c, AMP_c, ΔΨm, degavg, J_O2 = sys\n",
    "\n",
    "    glc5 = glc ./ 5\n",
    "    numcol = 2\n",
    "    numrow = 3\n",
    "    fig, axs = plt.subplots(numrow, numcol; figsize)\n",
    "\n",
    "    axs[0, 0].set(ylabel=\"Cytosolic NADH:NAD (ratio)\")\n",
    "    axs[0, 0].set_title(\"a\", loc=\"left\")\n",
    "    k = NADH_c / NAD_c\n",
    "    yy = [extract(sim, k) extract(sim_gal, k) extract(sim_ffa, k)]\n",
    "    lines = axs[0, 0].plot(glc5, yy)\n",
    "    axs[0, 0].legend(lines, labels)\n",
    "\n",
    "    axs[0, 1].set(ylabel=\"Mitochondrial NADH:NAD (ratio)\")\n",
    "    axs[0, 1].set_title(\"b\", loc=\"left\")\n",
    "    k = NADH_m / NAD_m\n",
    "    yy = [extract(sim, k) extract(sim_gal, k) extract(sim_ffa, k)]\n",
    "    lines = axs[0, 1].plot(glc5, yy)\n",
    "    axs[0, 1].legend(lines, labels)\n",
    "\n",
    "    axs[1, 0].set(ylabel=\"ATP:ADP (ratio)\")\n",
    "    axs[1, 0].set_title(\"c\", loc=\"left\")\n",
    "    k = ATP_c / ADP_c\n",
    "    yy = [extract(sim, k) extract(sim_gal, k) extract(sim_ffa, k)]\n",
    "    lines = axs[1, 0].plot(glc5, yy)\n",
    "    axs[1, 0].legend(lines, labels)\n",
    "\n",
    "    axs[1, 1].set(ylabel=\"ΔΨm (mV)\")\n",
    "    axs[1, 1].set_title(\"d\", loc=\"left\")\n",
    "    k = ΔΨm * 1000\n",
    "    yy = [extract(sim, k) extract(sim_gal, k) extract(sim_ffa, k)]\n",
    "    lines = axs[1, 1].plot(glc5, yy)\n",
    "    axs[1, 1].legend(lines, labels)\n",
    "\n",
    "    axs[2, 0].set(ylabel=\"Average node degree (a.u.)\")\n",
    "    axs[2, 0].set_title(\"e\", loc=\"left\")\n",
    "    k = degavg\n",
    "    yy = [extract(sim, k) extract(sim_gal, k) extract(sim_ffa, k)]\n",
    "    lines = axs[2, 0].plot(glc5, yy)\n",
    "    axs[2, 0].legend(lines, labels)\n",
    "    axs[2, 0].set(xlabel=\"Glucose (X)\")\n",
    "\n",
    "    k = J_O2 * 1000\n",
    "    yy = [extract(sim, k) extract(sim_gal, k) extract(sim_ffa, k)]\n",
    "    lines = axs[2, 1].plot(glc5, yy)\n",
    "    axs[2, 1].legend(lines, labels)\n",
    "    axs[2, 1].set(xlabel=\"Glucose (X)\", ylabel=\"Oxygen consumption (μM/s)\")\n",
    "    axs[2, 1].set_title(\"f\", loc=\"left\")\n",
    "\n",
    "    for i in 0:numrow-1, j in 0:numcol-1\n",
    "        axs[i, j].set_xticks(1:6)\n",
    "        axs[i, j].grid()\n",
    "    end\n",
    "    fig.suptitle(title)\n",
    "    fig.tight_layout()\n",
    "    return fig\n",
    "end\n",
    "\n",
    "figFFAGal = plot_ffa_gal(glc, sim, sim_gal, sim_ffa, sys)"
   ],
   "metadata": {},
   "execution_count": null
  },
  {
   "cell_type": "markdown",
   "source": [
    "Export figure"
   ],
   "metadata": {}
  },
  {
   "outputs": [],
   "cell_type": "code",
   "source": [
    "exportTIF(figFFAGal, \"Fig-Base-Gal-FFA.tif\")"
   ],
   "metadata": {},
   "execution_count": null
  },
  {
   "cell_type": "markdown",
   "source": [
    "---\n",
    "\n",
    "*This notebook was generated using [Literate.jl](https://github.com/fredrikekre/Literate.jl).*"
   ],
   "metadata": {}
  }
 ],
 "nbformat_minor": 3,
 "metadata": {
  "language_info": {
   "file_extension": ".jl",
   "mimetype": "application/julia",
   "name": "julia",
   "version": "1.11.4"
  },
  "kernelspec": {
   "name": "julia-1.11",
   "display_name": "Julia 1.11.4",
   "language": "julia"
  }
 },
 "nbformat": 4
}
