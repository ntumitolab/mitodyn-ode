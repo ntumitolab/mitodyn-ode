{
 "cells": [
  {
   "cell_type": "markdown",
   "source": [
    "# Diabetic step response\n",
    "## Glucose-Oligomycin-FCCP protocol\n",
    "\n",
    "Step responses to both glucose stimulation and chemical agents (I)"
   ],
   "metadata": {}
  },
  {
   "outputs": [],
   "cell_type": "code",
   "source": [
    "using OrdinaryDiffEq\n",
    "using SteadyStateDiffEq\n",
    "using DiffEqCallbacks\n",
    "using ModelingToolkit\n",
    "using MitochondrialDynamics\n",
    "using MitochondrialDynamics: second, μM, mV, mM, Hz, minute\n",
    "import PythonPlot as plt\n",
    "plt.matplotlib.rcParams[\"font.size\"] = 14"
   ],
   "metadata": {},
   "execution_count": null
  },
  {
   "outputs": [],
   "cell_type": "code",
   "source": [
    "@named sys = make_model()\n",
    "@unpack Glc, rPDH, rETC, rHL, rF1 = sys\n",
    "\n",
    "tend = 80minute\n",
    "ts = range(0, tend, 401)\n",
    "tspan = (ts[begin], ts[end])\n",
    "alg = TRBDF2()\n",
    "prob = ODEProblem(sys, [], tspan)\n",
    "prob_dm = ODEProblem(sys, [], tspan, [rPDH=>0.5, rETC=>0.75, rHL=>1.4, rF1=>0.5])\n",
    "\n",
    "ssprob_dm = SteadyStateProblem(prob_dm)\n",
    "sssol_dm = solve(ssprob_dm, DynamicSS(Rodas5()))"
   ],
   "metadata": {},
   "execution_count": null
  },
  {
   "cell_type": "markdown",
   "source": [
    "Define events"
   ],
   "metadata": {}
  },
  {
   "outputs": [],
   "cell_type": "code",
   "source": [
    "function add_glucose!(i)\n",
    "    i.ps[Glc] = 20mM\n",
    "end\n",
    "\n",
    "add_glucose_cb = PresetTimeCallback(20minute, add_glucose!)\n",
    "\n",
    "function add_oligomycin!(i)\n",
    "    i.ps[rF1] *= 0.1\n",
    "end\n",
    "\n",
    "add_oligomycin_cb = PresetTimeCallback(40minute, add_oligomycin!)\n",
    "\n",
    "function add_rotenone!(i)\n",
    "    i.ps[rETC] *= 0.1\n",
    "end\n",
    "\n",
    "add_rotenone_cb = PresetTimeCallback(60minute, add_rotenone!)\n",
    "\n",
    "function add_fccp!(i)\n",
    "    i.ps[rHL] *= 5\n",
    "end\n",
    "\n",
    "add_fccp_cb = PresetTimeCallback(60minute, add_fccp!)\n",
    "\n",
    "prob_dm = remake(prob_dm, u0=sssol_dm.u)\n",
    "cbs = CallbackSet(add_glucose_cb, add_oligomycin_cb, add_fccp_cb)\n",
    "sols3 = solve(prob, alg; callback=cbs, saveat=ts)\n",
    "solDMs3 = solve(prob_dm, alg; callback=cbs, saveat=ts);"
   ],
   "metadata": {},
   "execution_count": null
  },
  {
   "outputs": [],
   "cell_type": "code",
   "source": [
    "function plot_figs2(sol, solDM; figsize=(14, 10), labels=[\"Baseline\", \"Diabetic\"], jo2_mul=t->1, laststep=\"FCCP\")\n",
    "    @unpack G3P, Pyr, NADH_c, NADH_m, Ca_c, Ca_m, ATP_c, ADP_c, ΔΨm, degavg, J_O2 = sol.prob.f.sys\n",
    "    ts = sol.t\n",
    "    tsm = ts ./ 60\n",
    "\n",
    "    jo2 = sol[J_O2 * 1000] .* jo2_mul.(ts)\n",
    "    pyr = sol[Pyr * 1000]\n",
    "    nadh_c = sol[NADH_c * 1000]\n",
    "    nadh_m = sol[NADH_m * 1000]\n",
    "    ca_c = sol[Ca_c * 1000]\n",
    "    ca_m = sol[Ca_m * 1000]\n",
    "    td = sol[ATP_c/ADP_c]\n",
    "    dpsi = sol[ΔΨm * 1000]\n",
    "    k = sol[degavg]\n",
    "\n",
    "    pyrDM = solDM[Pyr * 1000]\n",
    "    jo2DM = solDM[J_O2 * 1000] .* jo2_mul.(ts)\n",
    "    nadh_cDM = solDM[NADH_c * 1000]\n",
    "    nadh_mDM = solDM[NADH_m * 1000]\n",
    "    ca_cDM = solDM[Ca_c * 1000]\n",
    "    ca_mDM = solDM[Ca_m * 1000]\n",
    "    tdDM = solDM[ATP_c/ADP_c]\n",
    "    dpsiDM = solDM[ΔΨm * 1000]\n",
    "    kDM = solDM[degavg]\n",
    "\n",
    "    numrows = 3\n",
    "    numcols = 3\n",
    "    fig, ax = plt.subplots(numrows, numcols; figsize)\n",
    "\n",
    "    ax[0, 0].plot(tsm, jo2, label=labels[1])\n",
    "    ax[0, 0].plot(tsm, jo2DM, label=labels[2])\n",
    "    ax[0, 0].set(ylabel=\"OCR (μM/s)\")\n",
    "    ax[0, 0].set_title(\"a\", loc=\"left\")\n",
    "    ax[0, 0].legend(loc=\"lower right\")\n",
    "    ax[0, 0].annotate(\"Glc\", xy=(20, 65), xytext=(20, 72),\n",
    "        arrowprops=Dict(\"shrink\"=>3, \"facecolor\"=>\"black\"))\n",
    "    ax[0, 0].annotate(\"Omy\", xy=(40, 65), xytext=(40, 72),\n",
    "        arrowprops=Dict(\"shrink\"=>3, \"facecolor\"=>\"black\"))\n",
    "    ax[0, 0].annotate(laststep, xy=(60, 65), xytext=(60, 72),\n",
    "        arrowprops=Dict(\"shrink\"=>3, \"facecolor\"=>\"black\"))\n",
    "\n",
    "    ax[0, 1].plot(tsm, pyr, label=labels[1])\n",
    "    ax[0, 1].plot(tsm, pyrDM, label=labels[2])\n",
    "    ax[0, 1].set(ylabel=\"Pyruvate (μM)\")\n",
    "    ax[0, 1].set_title(\"b\", loc=\"left\")\n",
    "\n",
    "    ax[0, 2].plot(tsm, nadh_c, label=labels[1])\n",
    "    ax[0, 2].plot(tsm, nadh_cDM, label=labels[2])\n",
    "    ax[0, 2].set(ylabel=\"Cytosolic NADH (μM)\")\n",
    "    ax[0, 2].set_title(\"c\", loc=\"left\")\n",
    "\n",
    "    ax[1, 0].plot(tsm, nadh_m, label=labels[1])\n",
    "    ax[1, 0].plot(tsm, nadh_mDM, label=labels[2])\n",
    "    ax[1, 0].set(ylabel=\"Mitochondrial NADH (μM)\")\n",
    "    ax[1, 0].set_title(\"d\", loc=\"left\")\n",
    "\n",
    "    ax[1, 1].plot(tsm, ca_c, label=labels[1])\n",
    "    ax[1, 1].plot(tsm, ca_cDM, label=labels[2])\n",
    "    ax[1, 1].set(ylabel=\"Cytosolic Calcium (μM)\")\n",
    "    ax[1, 1].set_title(\"e\", loc=\"left\")\n",
    "\n",
    "    ax[1, 2].plot(tsm, ca_m, label=labels[1])\n",
    "    ax[1, 2].plot(tsm, ca_mDM, label=labels[2])\n",
    "    ax[1, 2].set(ylabel=\"Mitochondrial Calcium (μM)\")\n",
    "    ax[1, 2].set_title(\"f\", loc=\"left\")\n",
    "\n",
    "    ax[2, 0].plot(tsm, td, label=labels[1])\n",
    "    ax[2, 0].plot(tsm, tdDM, label=labels[2])\n",
    "    ax[2, 0].set(ylabel=\"ATP:ADP (ratio)\", xlabel=\"Time (min)\")\n",
    "    ax[2, 0].set_title(\"g\", loc=\"left\")\n",
    "\n",
    "    ax[2, 1].plot(tsm, dpsi, label=labels[1])\n",
    "    ax[2, 1].plot(tsm, dpsiDM, label=labels[2])\n",
    "    ax[2, 1].set(ylabel=\"ΔΨm (mV)\", xlabel=\"Time (min)\")\n",
    "    ax[2, 1].set_title(\"h\", loc=\"left\")\n",
    "\n",
    "    ax[2, 2].plot(tsm, k, label=labels[1])\n",
    "    ax[2, 2].plot(tsm, kDM, label=labels[2])\n",
    "    ax[2, 2].set(ylabel=\"Average Node Degree (a.u.)\", xlabel=\"Time (min)\")\n",
    "    ax[2, 2].set_title(\"i\", loc=\"left\")\n",
    "\n",
    "    for i in 0:numrows-1, j in 0:numcols-1\n",
    "        ax[i, j].legend()\n",
    "        ax[i, j].grid()\n",
    "    end\n",
    "\n",
    "    fig.tight_layout()\n",
    "    return fig\n",
    "end"
   ],
   "metadata": {},
   "execution_count": null
  },
  {
   "outputs": [],
   "cell_type": "code",
   "source": [
    "figs3 = plot_figs2(sols3, solDMs3)"
   ],
   "metadata": {},
   "execution_count": null
  },
  {
   "cell_type": "markdown",
   "source": [
    "TIFF file"
   ],
   "metadata": {}
  },
  {
   "outputs": [],
   "cell_type": "code",
   "source": [
    "exportTIF(figs3, \"FigDM-Glucose-Oligomycin-FCCP.tif\")\n",
    "\n",
    "# Glucose-Oligomycin-Rotenone\n",
    "prob5 = ODEProblem(sys, [], tspan)\n",
    "prob_dm5 = ODEProblem(sys, sssol_dm.u, tspan, [rPDH=>0.5, rETC=>0.75, rHL=>1.4, rF1=>0.5])\n",
    "cbs = CallbackSet(add_glucose_cb, add_oligomycin_cb, add_rotenone_cb)\n",
    "sols5 = solve(prob5, alg; callback=cbs, saveat=ts)\n",
    "sols5DM = solve(prob_dm5, alg; callback=cbs, saveat=ts)\n",
    "\n",
    "jo2_mul = t -> 10 - 9 * (t>=60minute)\n",
    "figs5 = plot_figs2(sols5, sols5DM; jo2_mul, laststep=\"Rot\")"
   ],
   "metadata": {},
   "execution_count": null
  },
  {
   "outputs": [],
   "cell_type": "code",
   "source": [
    "exportTIF(figs5, \"FigDM-Glucose-Oligomycin-RotAA.tif\")"
   ],
   "metadata": {},
   "execution_count": null
  },
  {
   "cell_type": "markdown",
   "source": [
    "---\n",
    "\n",
    "*This notebook was generated using [Literate.jl](https://github.com/fredrikekre/Literate.jl).*"
   ],
   "metadata": {}
  }
 ],
 "nbformat_minor": 3,
 "metadata": {
  "language_info": {
   "file_extension": ".jl",
   "mimetype": "application/julia",
   "name": "julia",
   "version": "1.12.1"
  },
  "kernelspec": {
   "name": "julia-1.12",
   "display_name": "Julia 1.12.1",
   "language": "julia"
  }
 },
 "nbformat": 4
}