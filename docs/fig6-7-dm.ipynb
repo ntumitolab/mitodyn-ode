{
 "cells": [
  {
   "cell_type": "markdown",
   "source": [
    "# Figure 6 and 7"
   ],
   "metadata": {}
  },
  {
   "outputs": [],
   "cell_type": "code",
   "source": [
    "using OrdinaryDiffEq\n",
    "using SteadyStateDiffEq\n",
    "using ModelingToolkit\n",
    "using MitochondrialDynamics\n",
    "using MitochondrialDynamics: second, μM, mV, mM, Hz, minute\n",
    "import PythonPlot as plt\n",
    "plt.matplotlib.rcParams[\"font.size\"] = 14"
   ],
   "metadata": {},
   "execution_count": null
  },
  {
   "outputs": [],
   "cell_type": "code",
   "source": [
    "glc = 4.0:0.5:30.0\n",
    "@named sys = make_model()\n",
    "prob = SteadyStateProblem(sys, [])"
   ],
   "metadata": {},
   "execution_count": null
  },
  {
   "cell_type": "markdown",
   "source": [
    "Change parameters"
   ],
   "metadata": {}
  },
  {
   "outputs": [],
   "cell_type": "code",
   "source": [
    "@unpack Glc, rETC, rHL, rF1, rPDH = sys"
   ],
   "metadata": {},
   "execution_count": null
  },
  {
   "cell_type": "markdown",
   "source": [
    "## Fig 6"
   ],
   "metadata": {}
  },
  {
   "outputs": [],
   "cell_type": "code",
   "source": [
    "prob_dm = SteadyStateProblem(sys, [], [rPDH=>0.5, rETC=>0.75, rHL=>1.4, rF1=>0.5])\n",
    "prob_fccp = SteadyStateProblem(sys, [], [rHL=>5.0])\n",
    "prob_rotenone = SteadyStateProblem(sys, [], [rETC=>0.1])\n",
    "prob_oligomycin = SteadyStateProblem(sys, [], [rF1=>0.1])\n",
    "\n",
    "function prob_func_glc(prob, i, repeat)\n",
    "    remake(prob, p=[Glc => glc[i]])\n",
    "end"
   ],
   "metadata": {},
   "execution_count": null
  },
  {
   "cell_type": "markdown",
   "source": [
    "DM cells"
   ],
   "metadata": {}
  },
  {
   "outputs": [],
   "cell_type": "code",
   "source": [
    "alg = DynamicSS(TRBDF2())\n",
    "prob_func=prob_func_glc\n",
    "trajectories = length(glc)\n",
    "\n",
    "sols = solve(EnsembleProblem(prob; prob_func, safetycopy=false), alg; trajectories)\n",
    "solsDM = solve(EnsembleProblem(prob_dm; prob_func, safetycopy=false), alg; trajectories);"
   ],
   "metadata": {},
   "execution_count": null
  },
  {
   "outputs": [],
   "cell_type": "code",
   "source": [
    "function plot_fig6(sols, solsDM, glc; figsize=(10, 8), labels=[\"Baseline\", \"Diabetic\"])\n",
    "    glc5 = glc ./ 5\n",
    "    numrows = 3\n",
    "    numcols = 3\n",
    "\n",
    "    fig, ax = plt.subplots(numrows, numcols; figsize)\n",
    "\n",
    "    @unpack G3P = sys\n",
    "    ax[0, 0].plot(glc5, extract(sols, G3P * 1000), label=labels[1])\n",
    "    ax[0, 0].plot(glc5, extract(solsDM, G3P * 1000), label=labels[2])\n",
    "    ax[0, 0].set_title(\"j\", loc=\"left\")\n",
    "    ax[0, 0].set(ylabel=\"G3P (μM)\")\n",
    "\n",
    "    @unpack Pyr = sys\n",
    "    ax[0, 1].plot(glc5, extract(sols, Pyr * 1000), label=labels[1])\n",
    "    ax[0, 1].plot(glc5, extract(solsDM, Pyr * 1000), label=labels[2])\n",
    "    ax[0, 1].set_title(\"k\", loc=\"left\")\n",
    "    ax[0, 1].set(ylabel=\"Pyruvate (μM)\")\n",
    "\n",
    "    @unpack NADH_c, NAD_c = sys\n",
    "    ax[0, 2].plot(glc5, extract(sols, NADH_c/NAD_c), label=labels[1])\n",
    "    ax[0, 2].plot(glc5, extract(solsDM, NADH_c/NAD_c), label=labels[2])\n",
    "    ax[0, 2].set_title(\"l\", loc=\"left\")\n",
    "    ax[0, 2].set(ylabel=\"Cyto. NADH:NAD (ratio)\")\n",
    "\n",
    "    @unpack NADH_m, NAD_m = sys\n",
    "    ax[1, 0].plot(glc5, extract(sols, NADH_m/NAD_m), label=labels[1])\n",
    "    ax[1, 0].plot(glc5, extract(solsDM, NADH_m/NAD_m), label=labels[2])\n",
    "    ax[1, 0].set_title(\"m\", loc=\"left\")\n",
    "    ax[1, 0].set(ylabel=\"Mito. NADH:NAD (ratio)\")\n",
    "\n",
    "    @unpack Ca_c = sys\n",
    "    ax[1, 1].plot(glc5, extract(sols, Ca_c * 1000), label=labels[1])\n",
    "    ax[1, 1].plot(glc5, extract(solsDM, Ca_c * 1000), label=labels[2])\n",
    "    ax[1, 1].set_title(\"n\", loc=\"left\")\n",
    "    ax[1, 1].set(ylabel=\"Cyto. calcium (μM)\")\n",
    "\n",
    "    @unpack Ca_m = sys\n",
    "    ax[1, 2].plot(glc5, extract(sols, Ca_m * 1000), label=labels[1])\n",
    "    ax[1, 2].plot(glc5, extract(solsDM, Ca_m * 1000), label=labels[2])\n",
    "    ax[1, 2].set_title(\"o\", loc=\"left\")\n",
    "    ax[1, 2].set(ylabel=\"Mito. calcium (μM)\")\n",
    "\n",
    "    @unpack ΔΨm = sys\n",
    "    ax[2, 0].plot(glc5, extract(sols, ΔΨm * 1000), label=labels[1])\n",
    "    ax[2, 0].plot(glc5, extract(solsDM, ΔΨm * 1000), label=labels[2])\n",
    "    ax[2, 0].set_title(\"p\", loc=\"left\")\n",
    "    ax[2, 0].set(xlabel=\"Glucose (X)\", ylabel=\"ΔΨ (mV)\")\n",
    "\n",
    "    @unpack ATP_c, ADP_c = sys\n",
    "    ax[2, 1].plot(glc5, extract(sols, ATP_c/ADP_c), label=labels[1])\n",
    "    ax[2, 1].plot(glc5, extract(solsDM, ATP_c/ADP_c), label=labels[2])\n",
    "    ax[2, 1].set_title(\"q\", loc=\"left\")\n",
    "    ax[2, 1].set(xlabel=\"Glucose (X)\", ylabel=\"ATP:ADP (ratio)\")\n",
    "\n",
    "    @unpack degavg = sys\n",
    "    ax[2, 2].plot(glc5, extract(sols, degavg), label=labels[1])\n",
    "    ax[2, 2].plot(glc5, extract(solsDM, degavg), label=labels[2])\n",
    "    ax[2, 2].set_title(\"r\", loc=\"left\")\n",
    "    ax[2, 2].set(xlabel=\"Glucose (X)\", ylabel=\"Avg. node degree (ratio)\")\n",
    "\n",
    "    for i in 0:numrows-1, j in 0:numcols-1\n",
    "        ax[i, j].grid()\n",
    "        ax[i, j].legend()\n",
    "    end\n",
    "\n",
    "    fig.tight_layout()\n",
    "    return fig\n",
    "end"
   ],
   "metadata": {},
   "execution_count": null
  },
  {
   "outputs": [],
   "cell_type": "code",
   "source": [
    "fig6 = plot_fig6(sols, solsDM, glc)"
   ],
   "metadata": {},
   "execution_count": null
  },
  {
   "cell_type": "markdown",
   "source": [
    "Export figure"
   ],
   "metadata": {}
  },
  {
   "outputs": [],
   "cell_type": "code",
   "source": [
    "exportTIF(fig6, \"Fig7-DM-steadystates.tif\")"
   ],
   "metadata": {},
   "execution_count": null
  },
  {
   "cell_type": "markdown",
   "source": [
    "## Figure 7"
   ],
   "metadata": {}
  },
  {
   "outputs": [],
   "cell_type": "code",
   "source": [
    "sols = solve(EnsembleProblem(prob; prob_func, safetycopy=false), alg; trajectories)\n",
    "solsDM = solve(EnsembleProblem(prob_dm; prob_func, safetycopy=false), alg; trajectories)\n",
    "solsFCCP = solve(EnsembleProblem(prob_fccp; prob_func, safetycopy=false), alg; trajectories)\n",
    "solsRot = solve(EnsembleProblem(prob_oligomycin; prob_func, safetycopy=false), alg; trajectories)\n",
    "solsOligo = solve(EnsembleProblem(prob_rotenone; prob_func, safetycopy=false), alg; trajectories);"
   ],
   "metadata": {},
   "execution_count": null
  },
  {
   "outputs": [],
   "cell_type": "code",
   "source": [
    "function plot_fig7(sols, solsDM, solsFCCP, solsRot, solsOligo, glc; figsize=(12, 6))\n",
    "    sys = sols[begin].prob.f.sys\n",
    "    @unpack J_HL, J_ANT = sys\n",
    "    # Gather ATP synthesis rate (fusion) and proton leak rate (fission)\n",
    "    jHL_baseline = extract(sols, J_HL)\n",
    "    jANT_baseline = extract(sols, J_ANT)\n",
    "    ff_baseline = jANT_baseline ./ jHL_baseline\n",
    "    jHL_dm = extract(solsDM, J_HL)\n",
    "    jANT_dm = extract(solsDM, J_ANT)\n",
    "    ff_dm = jANT_dm ./ jHL_dm\n",
    "    jHL_fccp = extract(solsFCCP, J_HL)\n",
    "    jANT_fccp = extract(solsFCCP, J_ANT)\n",
    "    ff_fccp = jANT_fccp ./ jHL_fccp\n",
    "    jHL_rot = extract(solsRot, J_HL)\n",
    "    jANT_rot = extract(solsRot, J_ANT)\n",
    "    ff_rot = jANT_rot ./ jHL_rot\n",
    "    jHL_oligo = extract(solsOligo, J_HL)\n",
    "    jANT_oligo = extract(solsOligo, J_ANT)\n",
    "    ff_oligo = jANT_oligo ./ jHL_oligo\n",
    "\n",
    "    glc5 = glc ./ 5\n",
    "\n",
    "    fig, ax = plt.subplots(1, 2; figsize)\n",
    "\n",
    "    ax[0].plot(glc5, ff_baseline, \"b-\", label=\"Baseline\")\n",
    "    ax[0].plot(glc5, ff_dm, \"r--\", label=\"Diabetic\")\n",
    "    ax[0].plot(glc5, ff_rot, \"g--\", label=\"Rotenone\")\n",
    "    ax[0].plot(glc5, ff_oligo, \"c--\", label=\"Oligomycin\")\n",
    "    ax[0].plot(glc5, ff_fccp, \"k--\", label=\"Uncoupler\")\n",
    "    ax[0].set(xlabel=\"Glucose (X)\", ylabel=\"Fusion rate / Fission rate (ratio)\", xlim=(0.0, 6.0), ylim=(0.0, 2.5))\n",
    "    ax[0].set_title(\"a\", loc=\"left\")\n",
    "    ax[0].grid()\n",
    "    ax[0].legend()\n",
    "\n",
    "    ax[1].plot(jHL_baseline, jANT_baseline, \"bo-\", label=\"Baseline\")\n",
    "    ax[1].plot(jHL_dm, jANT_dm, \"ro-\", label=\"Diabetic\")\n",
    "    ax[1].plot(jHL_rot, jANT_rot, \"go-\", label=\"Rotenone\")\n",
    "    ax[1].plot(jHL_oligo, jANT_oligo, \"co-\", label=\"Oligomycin\")\n",
    "    ax[1].plot(jHL_fccp, jANT_fccp, \"ko-\", label=\"Uncoupler\")\n",
    "    ax[1].set(xlabel=\"Proton leak rate (mM/s)\", ylabel=\"ATP synthase rate (mM/s)\", xlim=(0.0, 0.45), ylim=(0.0, 0.15))\n",
    "    ax[1].set_title(\"b\", loc=\"left\")\n",
    "    ax[1].grid()\n",
    "    ax[1].legend()\n",
    "\n",
    "    fig.tight_layout()\n",
    "    return fig\n",
    "end"
   ],
   "metadata": {},
   "execution_count": null
  },
  {
   "outputs": [],
   "cell_type": "code",
   "source": [
    "fig7 = plot_fig7(sols, solsDM, solsFCCP, solsRot, solsOligo, glc)"
   ],
   "metadata": {},
   "execution_count": null
  },
  {
   "cell_type": "markdown",
   "source": [
    "Export figure"
   ],
   "metadata": {}
  },
  {
   "outputs": [],
   "cell_type": "code",
   "source": [
    "exportTIF(fig7, \"Fig8.tif\")"
   ],
   "metadata": {},
   "execution_count": null
  },
  {
   "cell_type": "markdown",
   "source": [
    "---\n",
    "\n",
    "*This notebook was generated using [Literate.jl](https://github.com/fredrikekre/Literate.jl).*"
   ],
   "metadata": {}
  }
 ],
 "nbformat_minor": 3,
 "metadata": {
  "language_info": {
   "file_extension": ".jl",
   "mimetype": "application/julia",
   "name": "julia",
   "version": "1.11.6"
  },
  "kernelspec": {
   "name": "julia-1.11",
   "display_name": "Julia 1.11.6",
   "language": "julia"
  }
 },
 "nbformat": 4
}
